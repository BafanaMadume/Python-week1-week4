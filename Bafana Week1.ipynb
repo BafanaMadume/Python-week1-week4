{
 "cells": [
  {
   "cell_type": "code",
   "execution_count": 17,
   "id": "e8df73db-6733-449f-b013-bceceb338636",
   "metadata": {},
   "outputs": [
    {
     "name": "stdout",
     "output_type": "stream",
     "text": [
      "hello world\n"
     ]
    },
    {
     "data": {
      "text/plain": [
       "'hello '"
      ]
     },
     "execution_count": 17,
     "metadata": {},
     "output_type": "execute_result"
    }
   ],
   "source": [
    "c=\"hello world\"\n",
    "print(c)\n",
    "c[0:6]\n"
   ]
  },
  {
   "cell_type": "code",
   "execution_count": 18,
   "id": "b254ea5f-43f2-47d5-ac69-65747e737312",
   "metadata": {},
   "outputs": [
    {
     "name": "stdout",
     "output_type": "stream",
     "text": [
      "[4, 5, 6]\n"
     ]
    }
   ],
   "source": [
    "a= [1,2,3] \n",
    "b = aa =[4,5,6]\n",
    "print(b)"
   ]
  },
  {
   "cell_type": "code",
   "execution_count": 45,
   "id": "804c2f7f-7906-4c98-b486-ad6fc0cec3ff",
   "metadata": {},
   "outputs": [
    {
     "name": "stdout",
     "output_type": "stream",
     "text": [
      "bafanajohn\n"
     ]
    }
   ],
   "source": [
    "x = \"bafana\"\n",
    "b = \"john\"\n",
    "\n",
    "print(x + b);"
   ]
  },
  {
   "cell_type": "markdown",
   "id": "f2cae738-4046-42ad-a987-02640c6114f8",
   "metadata": {},
   "source": [
    "# 2.1 LIST"
   ]
  },
  {
   "cell_type": "code",
   "execution_count": 46,
   "id": "e81ca148-feba-48d6-aaed-8e5c2af99c3d",
   "metadata": {},
   "outputs": [
    {
     "name": "stdout",
     "output_type": "stream",
     "text": [
      "[1, 2, 3, 4, '']\n"
     ]
    }
   ],
   "source": [
    "my_list=[1,2,3,4,\"\"]\n",
    "print(my_list);"
   ]
  },
  {
   "cell_type": "code",
   "execution_count": 47,
   "id": "12c7bd41-e8fa-4bc1-aed8-9dc50a6f8f75",
   "metadata": {},
   "outputs": [
    {
     "name": "stdout",
     "output_type": "stream",
     "text": [
      "['list', 'of', 'strings']\n"
     ]
    }
   ],
   "source": [
    "my_list=[\"list\",\"of\",\"strings\"]\n",
    "print(my_list)"
   ]
  },
  {
   "cell_type": "code",
   "execution_count": 48,
   "id": "68724951-72b1-4bd9-a17b-82b5911cae21",
   "metadata": {},
   "outputs": [],
   "source": [
    "my_list=[1,\"list\",False,[]]\n"
   ]
  },
  {
   "cell_type": "code",
   "execution_count": 49,
   "id": "ca0e8e9a-af8b-43d9-b243-421b7143f807",
   "metadata": {},
   "outputs": [
    {
     "data": {
      "text/plain": [
       "4"
      ]
     },
     "execution_count": 49,
     "metadata": {},
     "output_type": "execute_result"
    }
   ],
   "source": [
    "len(my_list)"
   ]
  },
  {
   "cell_type": "code",
   "execution_count": 50,
   "id": "1180bdf3-7662-4c8d-9783-a08f7b8699ee",
   "metadata": {},
   "outputs": [
    {
     "name": "stdout",
     "output_type": "stream",
     "text": [
      "[[1, 2, 3], [False, True], []]\n"
     ]
    }
   ],
   "source": [
    "my_list = [[1,2,3],[False,True],[]]\n",
    "print(my_list);"
   ]
  },
  {
   "cell_type": "code",
   "execution_count": 51,
   "id": "ff5b4992-2cf7-4755-92fa-c3f543502f0a",
   "metadata": {},
   "outputs": [
    {
     "data": {
      "text/plain": [
       "3"
      ]
     },
     "execution_count": 51,
     "metadata": {},
     "output_type": "execute_result"
    }
   ],
   "source": [
    "\n",
    "len(my_list)"
   ]
  },
  {
   "cell_type": "code",
   "execution_count": 162,
   "id": "7833a488-e9bb-4fd7-b1fa-89bb06aa41ad",
   "metadata": {},
   "outputs": [
    {
     "name": "stdout",
     "output_type": "stream",
     "text": [
      "{'', 1, 2, 3, 4}\n"
     ]
    }
   ],
   "source": [
    "my_set={1,2,3,4,\"\"}\n",
    "print(my_set);"
   ]
  },
  {
   "cell_type": "code",
   "execution_count": 163,
   "id": "90629719-8733-462d-96b4-84f40b937fea",
   "metadata": {},
   "outputs": [
    {
     "name": "stdout",
     "output_type": "stream",
     "text": [
      "['apple', 'banana', 'cherry']\n"
     ]
    }
   ],
   "source": [
    "thislist = list((\"apple\",\"banana\",\"cherry\"))\n",
    "print(thislist)"
   ]
  },
  {
   "cell_type": "markdown",
   "id": "66af78ba-f5df-4de6-b061-b110a3866767",
   "metadata": {},
   "source": [
    "#### ACCESSING ITEMS ON LIST\n",
    "---"
   ]
  },
  {
   "cell_type": "code",
   "execution_count": 165,
   "id": "8abf8e8e-e06e-48c0-8f47-1d94f2f8e750",
   "metadata": {},
   "outputs": [
    {
     "name": "stdout",
     "output_type": "stream",
     "text": [
      "banana\n"
     ]
    }
   ],
   "source": [
    "#Print the second item of the list\n",
    "\n",
    "thislist=[\"apple\",\"banana\",\"cherry\"] #the list\n",
    "print(thislist[1])"
   ]
  },
  {
   "cell_type": "markdown",
   "id": "70df39ce-36c5-4b29-9964-a2aca242c409",
   "metadata": {},
   "source": [
    "### Negative indexing ,basically starting from the end\n",
    "\n",
    "-1 refers to the last item, -2 refers to the second last item"
   ]
  },
  {
   "cell_type": "code",
   "execution_count": 166,
   "id": "d29cd692-5c0a-41ea-a7ae-1164ebdd945c",
   "metadata": {},
   "outputs": [
    {
     "name": "stdout",
     "output_type": "stream",
     "text": [
      "cherry\n"
     ]
    }
   ],
   "source": [
    "# Print the last item of the list:\n",
    "\n",
    "thislist = [\"apple\",\"banana\",\"cherry\"];\n",
    "print(thislist[-1])"
   ]
  },
  {
   "cell_type": "markdown",
   "id": "8490b865-c894-4530-b2d0-06d5879306a0",
   "metadata": {},
   "source": [
    "### Range of indexes\n",
    "where to start and where to end the range.\n",
    "\n",
    "When specifying a range, the return value will be a new list with the specified items"
   ]
  },
  {
   "cell_type": "code",
   "execution_count": 168,
   "id": "e3f2054e-f0aa-4065-a48e-e8604c4c155c",
   "metadata": {},
   "outputs": [
    {
     "name": "stdout",
     "output_type": "stream",
     "text": [
      "['cherry', 'orange', 'kiwi']\n"
     ]
    }
   ],
   "source": [
    "#Return the third, fourth, and fifth item \n",
    "\n",
    "thislist = [\"apple\", \"banana\", \"cherry\", \"orange\", \"kiwi\", \"melon\", \"mango\"]\n",
    "print(thislist[2:5])"
   ]
  },
  {
   "cell_type": "code",
   "execution_count": 170,
   "id": "09d0cd05-df99-4fb1-8a58-77cbc2ca7e50",
   "metadata": {},
   "outputs": [
    {
     "name": "stdout",
     "output_type": "stream",
     "text": [
      "['apple', 'banana', 'cherry', 'orange']\n"
     ]
    }
   ],
   "source": [
    "# This example returns the items from the beginning to end, but NOT including, \"kiwi\"\n",
    "thislist = [\"apple\", \"banana\", \"cherry\", \"orange\", \"kiwi\", \"melon\", \"mango\"]\n",
    "print(thislist[:4])"
   ]
  },
  {
   "cell_type": "code",
   "execution_count": 172,
   "id": "fef344bd-c9e7-4f34-9616-e7543512b8da",
   "metadata": {},
   "outputs": [
    {
     "name": "stdout",
     "output_type": "stream",
     "text": [
      "['cherry', 'orange', 'kiwi', 'melon', 'mango']\n"
     ]
    }
   ],
   "source": [
    "# This example returns the items from \"cherry\" to the end\n",
    "thislist = [\"apple\", \"banana\", \"cherry\", \"orange\", \"kiwi\", \"melon\", \"mango\"]\n",
    "print(thislist[2:])"
   ]
  },
  {
   "cell_type": "markdown",
   "id": "58197f01-3460-4d83-b3f6-fbed68a25536",
   "metadata": {},
   "source": [
    "## Check if Item Exists"
   ]
  },
  {
   "cell_type": "code",
   "execution_count": 173,
   "id": "fab272c2-c8be-4f30-8191-45553cd53ffb",
   "metadata": {},
   "outputs": [
    {
     "name": "stdout",
     "output_type": "stream",
     "text": [
      "yebo madala\n"
     ]
    }
   ],
   "source": [
    "# Check if \"apple\" is present in the list:\n",
    "\n",
    "thislist = [\"apple\", \"banana\", \"cherry\"]\n",
    "\n",
    "if \"apple\" in thislist:\n",
    "    print(\"yebo madala\")"
   ]
  },
  {
   "cell_type": "markdown",
   "id": "887d2ba4-702c-48d2-b948-252a20923abd",
   "metadata": {},
   "source": [
    "# CHANGE ITEM VALUE "
   ]
  },
  {
   "cell_type": "code",
   "execution_count": 2,
   "id": "4ccb9579-6a92-4579-8a4e-b107d759a140",
   "metadata": {},
   "outputs": [
    {
     "name": "stdout",
     "output_type": "stream",
     "text": [
      "['apple', 'banana', 'grapes']\n"
     ]
    }
   ],
   "source": [
    "#Change the second item:\n",
    "thislist = [\"apple\",\"banana\",\"cherry\"]\n",
    "thislist[2] = \"grapes\"\n",
    "print(thislist)"
   ]
  },
  {
   "cell_type": "markdown",
   "id": "669a526b-026d-4bc1-8ae9-21e715e5fd9e",
   "metadata": {},
   "source": [
    "# CHANGE A RANGE OF ITEM VALUES"
   ]
  },
  {
   "cell_type": "code",
   "execution_count": 6,
   "id": "0fe9317e-5352-438a-ac75-11bc67d8a0dd",
   "metadata": {},
   "outputs": [
    {
     "name": "stdout",
     "output_type": "stream",
     "text": [
      "oldlist\n",
      "['apple', 'banana', 'cherry', 'orange', 'kiwi', 'mango']\n",
      "newlist\n",
      "['apple', 'blackcurrant', 'watermelon', 'orange', 'kiwi', 'mango']\n"
     ]
    }
   ],
   "source": [
    "#Change the values \"banana\" and \"cherry\" with the values \"blackcurrant\" and \"watermelon\":\n",
    "print(\"oldlist\")\n",
    "thislist = [\"apple\", \"banana\", \"cherry\", \"orange\", \"kiwi\", \"mango\"];\n",
    "print(thislist)\n",
    "print(\"newlist\")\n",
    "thislist[1:3]=[\"blackcurrant\",\"watermelon\"]\n",
    "print(thislist)"
   ]
  },
  {
   "cell_type": "markdown",
   "id": "7fb6b216-6e20-4fa9-a18c-21b16258fef1",
   "metadata": {},
   "source": [
    "# Python - Add List Items"
   ]
  },
  {
   "cell_type": "markdown",
   "id": "87f2e326-0bd6-4961-8236-d8cc7652f623",
   "metadata": {},
   "source": [
    "---\n",
    "# APPEND ITEMS\n",
    "\n",
    "THIS IS TO ADD AN ITEM TO THE END OF A LIST\n",
    "\n",
    "**APPEND()**"
   ]
  },
  {
   "cell_type": "code",
   "execution_count": 7,
   "id": "f5a934ec-0536-4284-bd3f-d875e2ef93ee",
   "metadata": {},
   "outputs": [
    {
     "name": "stdout",
     "output_type": "stream",
     "text": [
      "['apple', 'banana', 'cherry', 'grapes']\n"
     ]
    }
   ],
   "source": [
    "thislist=[\"apple\",\"banana\",\"cherry\"]\n",
    "thislist.append(\"grapes\");\n",
    "print(thislist)"
   ]
  },
  {
   "cell_type": "markdown",
   "id": "98f01c3e-f145-4e96-b833-52e20d881a3b",
   "metadata": {},
   "source": [
    "# INSERT ITEMS\n",
    "\n",
    "to insert item at a specified index \n",
    "\n",
    "**insert()**"
   ]
  },
  {
   "cell_type": "code",
   "execution_count": 9,
   "id": "d82532f8-6706-4135-8f4b-0e2d6d62b790",
   "metadata": {},
   "outputs": [
    {
     "name": "stdout",
     "output_type": "stream",
     "text": [
      "['apples', 'grapes', 'banana', 'cherry']\n"
     ]
    }
   ],
   "source": [
    "# Insert an item as the second position\n",
    "\n",
    "thislist = [\"apples\",\"banana\",\"cherry\"];\n",
    "thislist.insert(1,\"grapes\")\n",
    "print(thislist)"
   ]
  },
  {
   "cell_type": "markdown",
   "id": "acde9b21-fde9-4f45-8e8c-a7433bbb5c44",
   "metadata": {},
   "source": [
    "---\n",
    "# Extend List\n",
    "append elements from another list to the current list\n",
    "extend() method does not have to append lists, you can add any iterable object (tuples, sets, dictionaries \n",
    "\n",
    "**extend()**\n"
   ]
  },
  {
   "cell_type": "code",
   "execution_count": 10,
   "id": "8d9fd319-2f32-49e1-9bc6-c1104791583c",
   "metadata": {},
   "outputs": [
    {
     "name": "stdout",
     "output_type": "stream",
     "text": [
      "['Bafana', 'Tyrone', 'Gift', 'Madume', 'Magadze', 'Baloyi']\n"
     ]
    }
   ],
   "source": [
    "namelist = [\"Bafana\",\"Tyrone\",\"Gift\"]\n",
    "surnamelist = [\"Madume\",\"Magadze\",\"Baloyi\"]\n",
    "\n",
    "namelist.extend(surnamelist)\n",
    "print(namelist)"
   ]
  },
  {
   "cell_type": "markdown",
   "id": "196993dd-5548-43f1-8b40-8b5e24d178ff",
   "metadata": {},
   "source": [
    "---\n",
    "# Remove List Items\n",
    "\n",
    "**remove()**\n",
    "method removes the specified item"
   ]
  },
  {
   "cell_type": "code",
   "execution_count": 19,
   "id": "28d511c0-e177-42b8-9a35-50e56e571698",
   "metadata": {},
   "outputs": [
    {
     "name": "stdout",
     "output_type": "stream",
     "text": [
      "['apple', 'avocado']\n"
     ]
    }
   ],
   "source": [
    "#Remove \"banana\":\n",
    "\n",
    "thislist = [\"banana\",\"apple\",\"avocado\"]\n",
    "thislist.remove(\"banana\");\n",
    "print(thislist)\n"
   ]
  },
  {
   "cell_type": "markdown",
   "id": "ef45b377-56a7-4c3a-a212-24ea3b5c680b",
   "metadata": {},
   "source": [
    "# Remove Specified index\n",
    "\n",
    "**pop()** method that removes the specified index\n",
    "\n",
    "other option is \n",
    "**del**"
   ]
  },
  {
   "cell_type": "code",
   "execution_count": 20,
   "id": "fa29eaa2-1e87-4987-a7c7-b376b9cb8eee",
   "metadata": {},
   "outputs": [
    {
     "name": "stdout",
     "output_type": "stream",
     "text": [
      "['apple', 'avocado']\n"
     ]
    }
   ],
   "source": [
    "thislist = [\"banana\",\"apple\",\"avocado\"]\n",
    "thislist.pop(0)\n",
    "print(thislist)"
   ]
  },
  {
   "cell_type": "code",
   "execution_count": 21,
   "id": "5608d5ef-dbf7-4950-9d39-f3fb520acc0b",
   "metadata": {},
   "outputs": [
    {
     "name": "stdout",
     "output_type": "stream",
     "text": [
      "['banana', 'cherry']\n"
     ]
    }
   ],
   "source": [
    "thislist = [\"banana\",\"apple\",\"avocado\"]\n",
    "thislist.pop(0)\n",
    "print(thislist)"
   ]
  },
  {
   "cell_type": "markdown",
   "id": "ad4e2773-827c-4e9a-81b0-b16b4b4e5bc7",
   "metadata": {},
   "source": [
    "# Loop Through a List"
   ]
  },
  {
   "cell_type": "code",
   "execution_count": 22,
   "id": "3d496c35-af82-4f54-91bd-791174d13ab6",
   "metadata": {},
   "outputs": [
    {
     "name": "stdout",
     "output_type": "stream",
     "text": [
      "apple\n",
      "banana\n",
      "cherry\n"
     ]
    }
   ],
   "source": [
    "thislist = [\"apple\", \"banana\", \"cherry\"]\n",
    "for x in thislist:\n",
    "  print(x)"
   ]
  },
  {
   "cell_type": "markdown",
   "id": "0d1b1bac-13c1-418c-80de-e13cdf70134b",
   "metadata": {},
   "source": [
    "# Loop Through the Index Numbers\n",
    "\n",
    "loop through the list items by referring to their index number.\n",
    "\n",
    "Use the range() and len() functions to create a suitable iterable"
   ]
  },
  {
   "cell_type": "code",
   "execution_count": 27,
   "id": "5d51f547-4c68-444f-a422-875315001109",
   "metadata": {},
   "outputs": [
    {
     "name": "stdout",
     "output_type": "stream",
     "text": [
      "apples\n",
      "banana\n",
      "cherry\n"
     ]
    }
   ],
   "source": [
    "thislist = [\"apples\",\"banana\",\"cherry\"]\n",
    "\n",
    "for i in range(len(thislist)):\n",
    "    print(thislist[i])"
   ]
  },
  {
   "cell_type": "code",
   "execution_count": null,
   "id": "e30c6f96-ad3e-4cbf-a5f5-df43f337f6df",
   "metadata": {},
   "outputs": [],
   "source": []
  },
  {
   "cell_type": "code",
   "execution_count": null,
   "id": "74f0a218-ba20-41af-99ae-8875a3f519c0",
   "metadata": {},
   "outputs": [],
   "source": []
  },
  {
   "cell_type": "markdown",
   "id": "a298da4b-3cf6-4715-a928-bfb2b2ebeef6",
   "metadata": {},
   "source": [
    "# Arithmetic Operators"
   ]
  },
  {
   "cell_type": "code",
   "execution_count": 53,
   "id": "f78d85c2-48f4-4e97-b536-03c75ca553a8",
   "metadata": {},
   "outputs": [
    {
     "data": {
      "text/plain": [
       "2"
      ]
     },
     "execution_count": 53,
     "metadata": {},
     "output_type": "execute_result"
    }
   ],
   "source": [
    "1+1 #addition"
   ]
  },
  {
   "cell_type": "code",
   "execution_count": 54,
   "id": "7b1db20f-3bc6-4757-81f3-49dd4590c365",
   "metadata": {},
   "outputs": [
    {
     "data": {
      "text/plain": [
       "4875"
      ]
     },
     "execution_count": 54,
     "metadata": {},
     "output_type": "execute_result"
    }
   ],
   "source": [
    "65*75 #multiplication"
   ]
  },
  {
   "cell_type": "code",
   "execution_count": 55,
   "id": "fe3f62b1-30b5-4954-9751-cfb162010c40",
   "metadata": {},
   "outputs": [
    {
     "data": {
      "text/plain": [
       "25"
      ]
     },
     "execution_count": 55,
     "metadata": {},
     "output_type": "execute_result"
    }
   ],
   "source": [
    "5 ** 2"
   ]
  },
  {
   "cell_type": "code",
   "execution_count": 56,
   "id": "3c589f96-ab1c-4450-849e-666ae51aab93",
   "metadata": {},
   "outputs": [
    {
     "data": {
      "text/plain": [
       "4.0"
      ]
     },
     "execution_count": 56,
     "metadata": {},
     "output_type": "execute_result"
    }
   ],
   "source": [
    "20/5"
   ]
  },
  {
   "cell_type": "code",
   "execution_count": 57,
   "id": "e0553651-d001-4d7b-b569-14095bfe43f5",
   "metadata": {},
   "outputs": [
    {
     "data": {
      "text/plain": [
       "4.444444444444445"
      ]
     },
     "execution_count": 57,
     "metadata": {},
     "output_type": "execute_result"
    }
   ],
   "source": [
    "20/4.5"
   ]
  },
  {
   "cell_type": "code",
   "execution_count": 58,
   "id": "67deb9bb-95b7-4146-9200-fc0c553985fe",
   "metadata": {},
   "outputs": [
    {
     "data": {
      "text/plain": [
       "20"
      ]
     },
     "execution_count": 58,
     "metadata": {},
     "output_type": "execute_result"
    }
   ],
   "source": [
    "20"
   ]
  },
  {
   "cell_type": "code",
   "execution_count": 59,
   "id": "e0c1936c-7f20-45c0-9bd1-d5b5d25560a3",
   "metadata": {},
   "outputs": [
    {
     "data": {
      "text/plain": [
       "'string 1bafana'"
      ]
     },
     "execution_count": 59,
     "metadata": {},
     "output_type": "execute_result"
    }
   ],
   "source": [
    "\"string 1\" + \"bafana\""
   ]
  },
  {
   "cell_type": "code",
   "execution_count": 60,
   "id": "b5312cb2-d871-405c-a589-a85bf6c752b2",
   "metadata": {},
   "outputs": [
    {
     "data": {
      "text/plain": [
       "'bafanabafanaMadumeMadumeMadumeMadume'"
      ]
     },
     "execution_count": 60,
     "metadata": {},
     "output_type": "execute_result"
    }
   ],
   "source": [
    "\"bafana\"*2 + \"Madume\"*4"
   ]
  },
  {
   "cell_type": "code",
   "execution_count": 61,
   "id": "3156cf15-13db-419e-952a-4b927cffcd04",
   "metadata": {},
   "outputs": [
    {
     "name": "stdout",
     "output_type": "stream",
     "text": [
      "it is false mate\n",
      "please retry again make sure values are correct\n"
     ]
    }
   ],
   "source": [
    "a= True\n",
    "b = False \n",
    "if b:\n",
    "    print(\"it is true bruv\")\n",
    "    print(\"also print\")\n",
    "else:\n",
    "    print(\"it is false mate\");\n",
    "    print(\"please retry again make sure values are correct\");"
   ]
  },
  {
   "cell_type": "code",
   "execution_count": 62,
   "id": "bfde4b8f-1a0a-4d3b-8a6a-4d9e8614512d",
   "metadata": {},
   "outputs": [
    {
     "name": "stdout",
     "output_type": "stream",
     "text": [
      "bafana\n",
      "Gift\n",
      "Madume\n"
     ]
    }
   ],
   "source": [
    "names = {\"bafana\",\"Gift\",\"Madume\"}\n",
    "for x in names:\n",
    "    print(x)"
   ]
  },
  {
   "cell_type": "code",
   "execution_count": 63,
   "id": "f64f3e29-c394-4fe9-a4e7-467656bab923",
   "metadata": {},
   "outputs": [
    {
     "name": "stdout",
     "output_type": "stream",
     "text": [
      "b\n",
      "a\n",
      "n\n",
      "a\n",
      "n\n",
      "a\n"
     ]
    }
   ],
   "source": [
    "for x in \"banana\":\n",
    "    print(x)"
   ]
  },
  {
   "cell_type": "code",
   "execution_count": 64,
   "id": "3c7c3439-58e0-47d6-9944-8bcdc4156313",
   "metadata": {},
   "outputs": [
    {
     "name": "stdout",
     "output_type": "stream",
     "text": [
      "bafana\n",
      "please retry again make sure values are correct\n"
     ]
    }
   ],
   "source": [
    "list1={\"bafana\",\"please retry again make sure values are correct\",}\n",
    "for x in list1:\n",
    "    print(x)\n",
    "    "
   ]
  },
  {
   "cell_type": "code",
   "execution_count": 65,
   "id": "825cff57-413a-442f-8f42-b6aaa464ad3f",
   "metadata": {},
   "outputs": [
    {
     "name": "stdout",
     "output_type": "stream",
     "text": [
      "2\n",
      "3\n",
      "4\n",
      "5\n",
      "6\n"
     ]
    }
   ],
   "source": [
    "i = 2\n",
    "while i <= 6:\n",
    "    print(i)\n",
    "    i+=1\n"
   ]
  },
  {
   "cell_type": "code",
   "execution_count": 66,
   "id": "3d0b1c66-29e9-4d2c-bf29-b0987f5df003",
   "metadata": {},
   "outputs": [],
   "source": [
    "def my_age():\n",
    "    print(\"my age is 00\")\n"
   ]
  },
  {
   "cell_type": "code",
   "execution_count": 67,
   "id": "2632b8e9-9e8a-4a40-99fb-487d12306f36",
   "metadata": {},
   "outputs": [
    {
     "name": "stdout",
     "output_type": "stream",
     "text": [
      "my age is 00\n"
     ]
    }
   ],
   "source": [
    "my_age()"
   ]
  },
  {
   "cell_type": "code",
   "execution_count": 68,
   "id": "1929ce38-a2e3-40bf-b411-d4f098079ef4",
   "metadata": {},
   "outputs": [
    {
     "data": {
      "text/plain": [
       "'222'"
      ]
     },
     "execution_count": 68,
     "metadata": {},
     "output_type": "execute_result"
    }
   ],
   "source": [
    "'2'+'22'"
   ]
  },
  {
   "cell_type": "markdown",
   "id": "1b30c8e1-db53-47d4-9d4e-59e52b426cc0",
   "metadata": {},
   "source": [
    "LEARNING ACTIVITIES"
   ]
  },
  {
   "cell_type": "code",
   "execution_count": 69,
   "id": "f9af31f4-3300-4d4c-b77e-6b85b70f9c07",
   "metadata": {},
   "outputs": [],
   "source": [
    "#ITERATION \n",
    "def factorial(num):\n",
    "    if type(num) is not int:# first if to test if number is an integar\n",
    "        return \"none\"\n",
    "    if num<0:\n",
    "        return \"none\"  # checks if number is below zero but challenge is -2\n",
    "    elif num == 0:     # any number that is equal to zero must return 1 ensure that it is true\n",
    "        return 1\n",
    "    \n",
    "    i = 0   # i becomes the lowest value factorial might end\n",
    "    f = 1   # last number that can be returnedg\n",
    "    while i < num:\n",
    "        i=i+1  #i set it equal to i+1\n",
    "        f=f*i  #f by multiplying it with i\n",
    "\n",
    "    return f  # what we are returning"
   ]
  },
  {
   "cell_type": "code",
   "execution_count": null,
   "id": "fe6b4780-7b24-4295-b469-82a575350de2",
   "metadata": {},
   "outputs": [],
   "source": []
  },
  {
   "cell_type": "markdown",
   "id": "4a7e0371-13a2-4d1f-856a-54fc4f10382d",
   "metadata": {},
   "source": [
    "# INT and Floats"
   ]
  },
  {
   "cell_type": "code",
   "execution_count": 70,
   "id": "b895dc1e-f99e-4386-b6c6-af664eab1efa",
   "metadata": {},
   "outputs": [
    {
     "data": {
      "text/plain": [
       "4311"
      ]
     },
     "execution_count": 70,
     "metadata": {},
     "output_type": "execute_result"
    }
   ],
   "source": [
    "int(5 ** 5.2)"
   ]
  },
  {
   "cell_type": "code",
   "execution_count": 71,
   "id": "3e5d10a7-007e-49bc-aae1-71ff13a6cc81",
   "metadata": {},
   "outputs": [
    {
     "data": {
      "text/plain": [
       "8"
      ]
     },
     "execution_count": 71,
     "metadata": {},
     "output_type": "execute_result"
    }
   ],
   "source": [
    "int(8.6)"
   ]
  },
  {
   "cell_type": "code",
   "execution_count": 72,
   "id": "0184978a-4c26-48d8-b413-034a4393dd24",
   "metadata": {},
   "outputs": [
    {
     "data": {
      "text/plain": [
       "8"
      ]
     },
     "execution_count": 72,
     "metadata": {},
     "output_type": "execute_result"
    }
   ],
   "source": [
    "int(8.99999999)"
   ]
  },
  {
   "cell_type": "code",
   "execution_count": 73,
   "id": "707292ee-bd70-4962-b53c-8281ff058b74",
   "metadata": {},
   "outputs": [
    {
     "data": {
      "text/plain": [
       "2"
      ]
     },
     "execution_count": 73,
     "metadata": {},
     "output_type": "execute_result"
    }
   ],
   "source": [
    "round(15/6.5)"
   ]
  },
  {
   "cell_type": "markdown",
   "id": "807131b0-8046-40d9-baca-693afa7d2296",
   "metadata": {},
   "source": [
    "## BOOLEANS"
   ]
  },
  {
   "cell_type": "code",
   "execution_count": 74,
   "id": "3042c42f-5ffa-410a-846b-8a812b9d71e9",
   "metadata": {},
   "outputs": [
    {
     "data": {
      "text/plain": [
       "True"
      ]
     },
     "execution_count": 74,
     "metadata": {},
     "output_type": "execute_result"
    }
   ],
   "source": [
    "bool(1)"
   ]
  },
  {
   "cell_type": "code",
   "execution_count": 75,
   "id": "0490a227-18d5-405b-bcc8-7e6f6912cec2",
   "metadata": {},
   "outputs": [
    {
     "data": {
      "text/plain": [
       "False"
      ]
     },
     "execution_count": 75,
     "metadata": {},
     "output_type": "execute_result"
    }
   ],
   "source": [
    "bool(0)"
   ]
  },
  {
   "cell_type": "code",
   "execution_count": 76,
   "id": "22f603bb-a69a-4a52-8f1f-8ce8d1790c04",
   "metadata": {},
   "outputs": [
    {
     "data": {
      "text/plain": [
       "True"
      ]
     },
     "execution_count": 76,
     "metadata": {},
     "output_type": "execute_result"
    }
   ],
   "source": [
    "bool(5)"
   ]
  },
  {
   "cell_type": "code",
   "execution_count": 77,
   "id": "8ab415f4-dd08-4733-9e81-88121a272177",
   "metadata": {},
   "outputs": [
    {
     "data": {
      "text/plain": [
       "True"
      ]
     },
     "execution_count": 77,
     "metadata": {},
     "output_type": "execute_result"
    }
   ],
   "source": [
    "bool(-1)"
   ]
  },
  {
   "cell_type": "markdown",
   "id": "febf095a-ef7b-46a0-8e2f-38bedb9416ae",
   "metadata": {},
   "source": [
    "# STRINGS"
   ]
  },
  {
   "cell_type": "markdown",
   "id": "9dbb5467-5b01-420c-8dec-a714af7df87a",
   "metadata": {},
   "source": [
    "### SLICING"
   ]
  },
  {
   "cell_type": "code",
   "execution_count": 78,
   "id": "67610ef9-18dd-4461-b232-0317b8e6224f",
   "metadata": {},
   "outputs": [],
   "source": [
    "name = \"MY name is Bafana Gift Madume \" #in slicing we are going to take portion of the string for output"
   ]
  },
  {
   "cell_type": "code",
   "execution_count": 79,
   "id": "2c2007b1-6013-4061-8d2e-325dfacbd3c3",
   "metadata": {},
   "outputs": [
    {
     "data": {
      "text/plain": [
       "'M'"
      ]
     },
     "execution_count": 79,
     "metadata": {},
     "output_type": "execute_result"
    }
   ],
   "source": [
    "name[0]"
   ]
  },
  {
   "cell_type": "code",
   "execution_count": 80,
   "id": "f2523688-ed7b-4446-9b1a-a7dfaf33cd65",
   "metadata": {},
   "outputs": [
    {
     "data": {
      "text/plain": [
       "'MY name'"
      ]
     },
     "execution_count": 80,
     "metadata": {},
     "output_type": "execute_result"
    }
   ],
   "source": [
    "name[0:7]"
   ]
  },
  {
   "cell_type": "code",
   "execution_count": 81,
   "id": "609cd10a-aaef-419a-9d95-36180be69aa1",
   "metadata": {},
   "outputs": [
    {
     "data": {
      "text/plain": [
       "'Bafana Gift Madume '"
      ]
     },
     "execution_count": 81,
     "metadata": {},
     "output_type": "execute_result"
    }
   ],
   "source": [
    "name[11:30]"
   ]
  },
  {
   "cell_type": "code",
   "execution_count": 82,
   "id": "d3eb3c76-fc6e-45cb-8f70-ae3a3f37c665",
   "metadata": {},
   "outputs": [],
   "source": [
    "myList = [ 1,2,3,4,5 ]"
   ]
  },
  {
   "cell_type": "code",
   "execution_count": 83,
   "id": "d6f1827b-c64f-4149-872c-580075e49478",
   "metadata": {},
   "outputs": [
    {
     "data": {
      "text/plain": [
       "[3, 4]"
      ]
     },
     "execution_count": 83,
     "metadata": {},
     "output_type": "execute_result"
    }
   ],
   "source": [
    "myList[2:4]"
   ]
  },
  {
   "cell_type": "markdown",
   "id": "0427a7ef-68f1-43c9-a11f-eef26d8c1e95",
   "metadata": {},
   "source": [
    "# FORMATTING"
   ]
  },
  {
   "cell_type": "code",
   "execution_count": 84,
   "id": "e2615cb1-af1f-45ab-abd4-a259b3ba06eb",
   "metadata": {},
   "outputs": [
    {
     "data": {
      "text/plain": [
       "'My number is:5'"
      ]
     },
     "execution_count": 84,
     "metadata": {},
     "output_type": "execute_result"
    }
   ],
   "source": [
    "'My number is:'+str(5)"
   ]
  },
  {
   "cell_type": "code",
   "execution_count": 85,
   "id": "cca937a1-e626-4d53-ba84-8392baff4492",
   "metadata": {},
   "outputs": [
    {
     "data": {
      "text/plain": [
       "'My number is:(5)'"
      ]
     },
     "execution_count": 85,
     "metadata": {},
     "output_type": "execute_result"
    }
   ],
   "source": [
    "f'My number is:(5)'"
   ]
  },
  {
   "cell_type": "code",
   "execution_count": 86,
   "id": "51380f2e-a913-4579-8e85-2bb8182ffeab",
   "metadata": {},
   "outputs": [
    {
     "name": "stdout",
     "output_type": "stream",
     "text": [
      "MY name is bafana madume,\n",
      "i am currently typing this at capaciti.\n"
     ]
    }
   ],
   "source": [
    "text1 = \"\"\"MY name is bafana madume,\n",
    "i am currently typing this at capaciti.\"\"\"\n",
    "\n",
    "print(text1)"
   ]
  },
  {
   "cell_type": "code",
   "execution_count": null,
   "id": "6ff5e3cc-eeb0-40a2-85ce-df3b3f6eafbe",
   "metadata": {},
   "outputs": [],
   "source": []
  },
  {
   "cell_type": "code",
   "execution_count": 87,
   "id": "aef640c7-4e05-40e8-97b3-97337ea3a92a",
   "metadata": {},
   "outputs": [
    {
     "data": {
      "text/plain": [
       "5"
      ]
     },
     "execution_count": 87,
     "metadata": {},
     "output_type": "execute_result"
    }
   ],
   "source": [
    "int('101',2)"
   ]
  },
  {
   "cell_type": "code",
   "execution_count": 88,
   "id": "7efcf98f-3187-4418-84fe-b74d5d724ff3",
   "metadata": {},
   "outputs": [
    {
     "data": {
      "text/plain": [
       "8"
      ]
     },
     "execution_count": 88,
     "metadata": {},
     "output_type": "execute_result"
    }
   ],
   "source": [
    "int(8.7)"
   ]
  },
  {
   "cell_type": "code",
   "execution_count": 89,
   "id": "2add647f-a87d-4552-8fca-d4d23ff8106f",
   "metadata": {},
   "outputs": [
    {
     "data": {
      "text/plain": [
       "True"
      ]
     },
     "execution_count": 89,
     "metadata": {},
     "output_type": "execute_result"
    }
   ],
   "source": [
    "bool(-1) == 1"
   ]
  },
  {
   "cell_type": "markdown",
   "id": "0f2d8a25-7455-4028-9c33-30082670d2f0",
   "metadata": {},
   "source": [
    "# BASIC DATA SRUCTURES"
   ]
  },
  {
   "cell_type": "markdown",
   "id": "f97ff926-5a0d-488c-be81-fce56a362c28",
   "metadata": {},
   "source": [
    "## list []"
   ]
  },
  {
   "cell_type": "markdown",
   "id": "503be461-5f86-4a43-a7da-773b17dbf920",
   "metadata": {},
   "source": [
    "List slicing"
   ]
  },
  {
   "cell_type": "code",
   "execution_count": 90,
   "id": "0ea029f4-55ae-4d6b-957a-c07edba200fb",
   "metadata": {},
   "outputs": [
    {
     "data": {
      "text/plain": [
       "[4, 5]"
      ]
     },
     "execution_count": 90,
     "metadata": {},
     "output_type": "execute_result"
    }
   ],
   "source": [
    "myList = [1,2,3,4,5]\n",
    "myList[3:]"
   ]
  },
  {
   "cell_type": "code",
   "execution_count": 91,
   "id": "53b958bc-2695-4568-894a-7947768c6bd9",
   "metadata": {},
   "outputs": [
    {
     "name": "stdout",
     "output_type": "stream",
     "text": [
      "0\n",
      "1\n",
      "2\n",
      "3\n",
      "4\n",
      "5\n",
      "6\n",
      "7\n",
      "8\n",
      "9\n"
     ]
    }
   ],
   "source": [
    "for i in range(10):\n",
    "    print(i)"
   ]
  },
  {
   "cell_type": "code",
   "execution_count": 92,
   "id": "250fc07c-4e7d-4c6d-ae76-e21d87cac56f",
   "metadata": {},
   "outputs": [],
   "source": [
    "myList = list(range(100))"
   ]
  },
  {
   "cell_type": "code",
   "execution_count": 93,
   "id": "9747845c-4ce7-4717-b0eb-df0cb6ee55e9",
   "metadata": {},
   "outputs": [
    {
     "data": {
      "text/plain": [
       "[0, 10, 20, 30, 40, 50, 60, 70, 80, 90]"
      ]
     },
     "execution_count": 93,
     "metadata": {},
     "output_type": "execute_result"
    }
   ],
   "source": [
    "myList[::10]"
   ]
  },
  {
   "cell_type": "code",
   "execution_count": 94,
   "id": "6e5c407a-2e5d-4186-b702-73962b65fb2e",
   "metadata": {},
   "outputs": [
    {
     "data": {
      "text/plain": [
       "[99, 89, 79, 69, 59, 49, 39, 29, 19, 9]"
      ]
     },
     "execution_count": 94,
     "metadata": {},
     "output_type": "execute_result"
    }
   ],
   "source": [
    "myList[::-10]"
   ]
  },
  {
   "cell_type": "markdown",
   "id": "e87a9e16-5453-4347-a481-d606ae6e0f95",
   "metadata": {},
   "source": [
    "### LIST MODIFYING "
   ]
  },
  {
   "cell_type": "code",
   "execution_count": 95,
   "id": "43589afd-44e5-4d37-8762-d4137dba778c",
   "metadata": {},
   "outputs": [
    {
     "name": "stdout",
     "output_type": "stream",
     "text": [
      "[1, 2, 3, 4, 5]\n"
     ]
    }
   ],
   "source": [
    "myList = [1,2,3,4]\n",
    "myList.append(5) # what append does it adds to the list \n",
    "print(myList)"
   ]
  },
  {
   "cell_type": "code",
   "execution_count": 96,
   "id": "72236043-0342-409f-8efd-138112a4a48c",
   "metadata": {},
   "outputs": [
    {
     "name": "stdout",
     "output_type": "stream",
     "text": [
      "[1, 2, 3, 'new value', 4, 5]\n"
     ]
    }
   ],
   "source": [
    "myList.insert(3,'new value')\n",
    "print(myList)"
   ]
  },
  {
   "cell_type": "code",
   "execution_count": 97,
   "id": "01e8b833-aff8-45a7-9f97-fbd19aeef01d",
   "metadata": {},
   "outputs": [
    {
     "data": {
      "text/plain": [
       "[1, 2, 3, 'new value', 4, 5]"
      ]
     },
     "execution_count": 97,
     "metadata": {},
     "output_type": "execute_result"
    }
   ],
   "source": [
    "myList"
   ]
  },
  {
   "cell_type": "code",
   "execution_count": 98,
   "id": "47322613-ec66-4d62-889a-46d947bbcd9d",
   "metadata": {},
   "outputs": [
    {
     "data": {
      "text/plain": [
       "5"
      ]
     },
     "execution_count": 98,
     "metadata": {},
     "output_type": "execute_result"
    }
   ],
   "source": [
    "myList.pop() # this method removes and returns at the end of a list"
   ]
  },
  {
   "cell_type": "code",
   "execution_count": 99,
   "id": "35f140df-0d97-4675-bfeb-71fdb04640d0",
   "metadata": {},
   "outputs": [
    {
     "name": "stdout",
     "output_type": "stream",
     "text": [
      "[1, 2, 3, 4]\n"
     ]
    }
   ],
   "source": [
    "myList.remove(\"new value\")\n",
    "print(myList)"
   ]
  },
  {
   "cell_type": "markdown",
   "id": "5520d07e-4719-4b68-a156-cf53c0b9250c",
   "metadata": {},
   "source": [
    "# TUPLES ()"
   ]
  },
  {
   "cell_type": "code",
   "execution_count": 100,
   "id": "dadb939f-3213-4242-a5f0-99fc7fe0e3e7",
   "metadata": {},
   "outputs": [
    {
     "data": {
      "text/plain": [
       "('a', 'b', 'c')"
      ]
     },
     "execution_count": 100,
     "metadata": {},
     "output_type": "execute_result"
    }
   ],
   "source": [
    "myTuple= ('a','b','c') # use round brackets \n",
    "myTuple"
   ]
  },
  {
   "cell_type": "code",
   "execution_count": 101,
   "id": "43f1e19b-ebc3-4e54-9c4c-870fce45d81a",
   "metadata": {},
   "outputs": [
    {
     "data": {
      "text/plain": [
       "'b'"
      ]
     },
     "execution_count": 101,
     "metadata": {},
     "output_type": "execute_result"
    }
   ],
   "source": [
    "myTuple[1] #when you call from a tuple use square brackets"
   ]
  },
  {
   "cell_type": "markdown",
   "id": "e2dc5c27-b7c9-4d33-9237-4a79ea380661",
   "metadata": {},
   "source": [
    "## SETS "
   ]
  },
  {
   "cell_type": "code",
   "execution_count": 102,
   "id": "bc8eae13-1a50-4361-adc5-c00d216420f6",
   "metadata": {},
   "outputs": [
    {
     "data": {
      "text/plain": [
       "{'a', 'b', 'c'}"
      ]
     },
     "execution_count": 102,
     "metadata": {},
     "output_type": "execute_result"
    }
   ],
   "source": [
    "mySet= {'a','b','c'}\n",
    "mySet"
   ]
  },
  {
   "cell_type": "code",
   "execution_count": 103,
   "id": "86f0114c-cdd9-4c86-8b02-6969892c60e2",
   "metadata": {},
   "outputs": [],
   "source": [
    "mySet = set(('a','b','c'))"
   ]
  },
  {
   "cell_type": "code",
   "execution_count": 104,
   "id": "308c4415-8dd7-4598-810b-73f92786dffe",
   "metadata": {},
   "outputs": [
    {
     "data": {
      "text/plain": [
       "{'a', 'b', 'c'}"
      ]
     },
     "execution_count": 104,
     "metadata": {},
     "output_type": "execute_result"
    }
   ],
   "source": [
    "mySet"
   ]
  },
  {
   "cell_type": "code",
   "execution_count": 1,
   "id": "5732fa08-be42-4ffe-b5aa-accfa2489d95",
   "metadata": {},
   "outputs": [
    {
     "name": "stdout",
     "output_type": "stream",
     "text": [
      "apple\n",
      "banana\n",
      "cherry\n"
     ]
    }
   ],
   "source": [
    "thisset = {\"apple\", \"banana\", \"cherry\"}\n",
    "\n",
    "for x in thisset:\n",
    "  print(x)"
   ]
  },
  {
   "cell_type": "code",
   "execution_count": 6,
   "id": "c24408ae-e655-48e1-b59d-c5ad2e65d1a7",
   "metadata": {},
   "outputs": [
    {
     "name": "stdout",
     "output_type": "stream",
     "text": [
      "{'Spheleke', 'Malebaleng', 'Sesethu', 'Bafana', 'isivile'}\n",
      "True\n",
      "{'Spheleke', 'john', 'Malebaleng', 'Sesethu', 'Bafana', 'isivile'}\n",
      "{'Spheleke', 'john', 'Madume', 'Malebaleng', 'Sesethu', 'Bafana', 'Madimabe', 'Mabuyane', 'isivile', 'Ntshona', 'Potye'}\n"
     ]
    }
   ],
   "source": [
    "myset = set((\"Bafana\",\"isivile\",\"Spheleke\",\"Malebaleng\",\"Sesethu\"))\n",
    "print(myset)\n",
    "\n",
    "# checking if Sesethu is in the list\n",
    "print(\"Sesethu\" in myset)\n",
    "\n",
    "# adding an item to a set, but only one item \n",
    "myset.add(\"john\")\n",
    "print(myset)\n",
    "\n",
    "# Adding more items to the set.\n",
    "surnameset = {\"Madume\",\"Mabuyane\",\"Ntshona\",\"Madimabe\",\"Potye\"}\n",
    "myset.update(surnameset)\n",
    "print(myset)"
   ]
  },
  {
   "cell_type": "code",
   "execution_count": 2,
   "id": "3280e4b2-f9b2-4e37-9279-77a1f739d496",
   "metadata": {},
   "outputs": [
    {
     "data": {
      "text/plain": [
       "['a', 'b', 'c']"
      ]
     },
     "execution_count": 2,
     "metadata": {},
     "output_type": "execute_result"
    }
   ],
   "source": [
    "myList=['a','b','b','c','c']\n",
    "myList = list(set(myList))\n",
    "myList"
   ]
  },
  {
   "cell_type": "markdown",
   "id": "be5bf6d0-d4a2-44b6-98d8-eda0a0846712",
   "metadata": {},
   "source": [
    "## DICTIONARIES"
   ]
  },
  {
   "cell_type": "code",
   "execution_count": 106,
   "id": "8006abca-d34b-41e2-9f82-2f370f2de6c9",
   "metadata": {},
   "outputs": [],
   "source": [
    "thisdict = {\n",
    "    \"brand\":\"ford\",\n",
    "    \"model\": \"Mustang\",\n",
    "    \"year\" : 2020,\n",
    "    \"year\" : 2023\n",
    "}"
   ]
  },
  {
   "cell_type": "code",
   "execution_count": 107,
   "id": "443d784f-a917-430f-9f24-86f53ae74224",
   "metadata": {},
   "outputs": [
    {
     "name": "stdout",
     "output_type": "stream",
     "text": [
      "{'brand': 'ford', 'model': 'Mustang', 'year': 2023}\n"
     ]
    }
   ],
   "source": [
    "print(thisdict)"
   ]
  },
  {
   "cell_type": "code",
   "execution_count": 108,
   "id": "b7f72617-1379-4b47-934d-d063606efdeb",
   "metadata": {},
   "outputs": [
    {
     "name": "stdout",
     "output_type": "stream",
     "text": [
      "3\n"
     ]
    }
   ],
   "source": [
    "print(len(thisdict))"
   ]
  },
  {
   "cell_type": "markdown",
   "id": "d052bfa3-0c37-4244-98c7-eb947e030333",
   "metadata": {},
   "source": [
    "## ACCESSING ITEMS"
   ]
  },
  {
   "cell_type": "code",
   "execution_count": 109,
   "id": "1f625e66-8103-4ab7-ba45-3caa33968c01",
   "metadata": {},
   "outputs": [],
   "source": [
    "thisdict = {\n",
    "    \"brand\":\"Ford\",\n",
    "    \"model\":\"Mustang\",\n",
    "    \"year\": 2020\n",
    "}\n",
    "x = thisdict[\"model\"] # accessing what i s required"
   ]
  },
  {
   "cell_type": "code",
   "execution_count": 110,
   "id": "fc9a0e73-cd7f-4ddd-9d12-d323e7110090",
   "metadata": {},
   "outputs": [
    {
     "name": "stdout",
     "output_type": "stream",
     "text": [
      "Mustang\n"
     ]
    }
   ],
   "source": [
    "print(x)"
   ]
  },
  {
   "cell_type": "code",
   "execution_count": 111,
   "id": "075c51ba-79f2-410a-a5c4-bfc4f7e039b1",
   "metadata": {},
   "outputs": [
    {
     "data": {
      "text/plain": [
       "'Mustang'"
      ]
     },
     "execution_count": 111,
     "metadata": {},
     "output_type": "execute_result"
    }
   ],
   "source": [
    "thisdict.get(\"model\") # get is also a fast method to obtain what is required"
   ]
  },
  {
   "cell_type": "markdown",
   "id": "0673fde4-d444-4a78-b5d2-fc20cbfdcdb3",
   "metadata": {},
   "source": [
    "## KEYS()"
   ]
  },
  {
   "cell_type": "code",
   "execution_count": 112,
   "id": "7f87d15a-74b9-4e3f-ac5a-7345de6f088f",
   "metadata": {},
   "outputs": [],
   "source": [
    "x = thisdict.keys() #keys() method will return a list of all the keys in the dictionary"
   ]
  },
  {
   "cell_type": "code",
   "execution_count": 113,
   "id": "9f469985-87a5-47ba-86fe-38b480d0a01a",
   "metadata": {},
   "outputs": [
    {
     "name": "stdout",
     "output_type": "stream",
     "text": [
      "dict_keys(['brand', 'model', 'year'])\n"
     ]
    }
   ],
   "source": [
    "print(x)"
   ]
  },
  {
   "cell_type": "markdown",
   "id": "0f18d838-b55f-4e4f-b172-f2c27d0cbbd7",
   "metadata": {},
   "source": [
    "##### *Adding a new item to the original dictionary*"
   ]
  },
  {
   "cell_type": "code",
   "execution_count": 114,
   "id": "1b701ea2-c37f-4cfc-8570-6f275efd387c",
   "metadata": {},
   "outputs": [
    {
     "name": "stdout",
     "output_type": "stream",
     "text": [
      "dict_keys(['brand', 'model', 'year'])\n",
      "dict_keys(['brand', 'model', 'year', 'color'])\n"
     ]
    }
   ],
   "source": [
    "car = {\n",
    "    \"brand\":\"Toyota\",\n",
    "    \"model\":\"Corolla\",\n",
    "    \"year\" : 2024\n",
    "}\n",
    "\n",
    "x = car.keys()\n",
    "print(x)\n",
    "\n",
    "car[\"color\"] = \"white\" # this is how you add a new key ot iten=m \n",
    "\n",
    "print(x)"
   ]
  },
  {
   "cell_type": "markdown",
   "id": "697389d1-70d1-4610-9167-f9d965cd0b04",
   "metadata": {},
   "source": [
    "#### GET VALUES"
   ]
  },
  {
   "cell_type": "markdown",
   "id": "a4dc0fe9-dfb0-41f2-ba2b-e161fb1b0ce3",
   "metadata": {},
   "source": [
    "values() method will return a list of all the values in the dictionary"
   ]
  },
  {
   "cell_type": "code",
   "execution_count": 115,
   "id": "a4321348-63cd-4099-9ad4-0cf79cf9d2a2",
   "metadata": {},
   "outputs": [
    {
     "name": "stdout",
     "output_type": "stream",
     "text": [
      "dict_values(['Ford', 'Mustang', 2020])\n"
     ]
    }
   ],
   "source": [
    "x = thisdict.values()\n",
    "print(x)"
   ]
  },
  {
   "cell_type": "markdown",
   "id": "94761d3d-b8c5-43e4-aa03-e9677e4cdf23",
   "metadata": {},
   "source": [
    "changing the \"year\" to 2024:"
   ]
  },
  {
   "cell_type": "code",
   "execution_count": 116,
   "id": "c0d1e338-274b-4db1-afee-fc6938ba3fec",
   "metadata": {},
   "outputs": [],
   "source": [
    "# changing the \"year\" to 2024:\n",
    "thisdict = {\n",
    "    \"brand\":\"ford\",\n",
    "    \"model\": \"Mustang\",\n",
    "    \"year\" : 2020,\n",
    "    \"year\" : 2023\n",
    "}\n",
    "thisdict[\"year\"] = 2024"
   ]
  },
  {
   "cell_type": "code",
   "execution_count": 117,
   "id": "8b03c86a-a154-466f-9d06-6034fe7f9ddc",
   "metadata": {},
   "outputs": [
    {
     "name": "stdout",
     "output_type": "stream",
     "text": [
      "{'brand': 'ford', 'model': 'Mustang', 'year': 2024}\n"
     ]
    }
   ],
   "source": [
    "print(thisdict)"
   ]
  },
  {
   "cell_type": "code",
   "execution_count": 118,
   "id": "a3b0f1ee-005d-48b9-835e-573cd0282de9",
   "metadata": {},
   "outputs": [
    {
     "name": "stdout",
     "output_type": "stream",
     "text": [
      "dict_values(['Mazda', 'Bseries', 2021])\n",
      "dict_values(['Mazda', 'Bseries', 2021, 'red', 'Bakkie'])\n"
     ]
    }
   ],
   "source": [
    "car = {\n",
    "    \"brand\":\"Mazda\",\n",
    "    \"Model\": \"Bseries\",\n",
    "    \"year\" : 2021 \n",
    "}\n",
    "\n",
    "x = car.values()\n",
    "print(x)\n",
    "\n",
    "car[\"color\"]=\"red\"\n",
    "car[\"type\"]= \"Bakkie\"\n",
    "\n",
    "print(x)"
   ]
  },
  {
   "cell_type": "markdown",
   "id": "1b33d4e5-1d1d-4657-8234-fcdaad860e64",
   "metadata": {},
   "source": [
    "## items() "
   ]
  },
  {
   "cell_type": "markdown",
   "id": "9c718700-1345-487f-bc2e-31efe0b82774",
   "metadata": {},
   "source": [
    "this method will return each item in a dictionary ,as tuples in a list"
   ]
  },
  {
   "cell_type": "code",
   "execution_count": 119,
   "id": "b215a96c-6b5f-4464-a4c8-6dca8b0237cc",
   "metadata": {},
   "outputs": [
    {
     "name": "stdout",
     "output_type": "stream",
     "text": [
      "dict_items([('brand', 'ford'), ('model', 'Mustang'), ('year', 2024)])\n"
     ]
    }
   ],
   "source": [
    "x=thisdict.items()\n",
    "print(x)"
   ]
  },
  {
   "cell_type": "code",
   "execution_count": 120,
   "id": "1f6ae79e-2162-4e74-af50-4929644d5109",
   "metadata": {},
   "outputs": [
    {
     "name": "stdout",
     "output_type": "stream",
     "text": [
      "dict_items([('brand', 'Toyota'), ('model', 'hilux'), ('year', 2023)])\n",
      "dict_items([('brand', 'Toyota'), ('model', 'hilux'), ('year', 2028)])\n"
     ]
    }
   ],
   "source": [
    "car ={\n",
    "    \"brand\":\"Toyota\",\n",
    "    \"model\":\"hilux\",\n",
    "    \"year\" : 2023\n",
    "}\n",
    "\n",
    "x = car.items()\n",
    "print(x)\n",
    "\n",
    "car[\"year\"]=2028\n",
    "print(x)"
   ]
  },
  {
   "cell_type": "markdown",
   "id": "4d0fcc00-e5a2-4fb0-91bf-163442a443ba",
   "metadata": {},
   "source": [
    "## CHECK IF KEY EXISTS"
   ]
  },
  {
   "cell_type": "code",
   "execution_count": 121,
   "id": "33434604-066e-4ca5-a1e4-a4dcecd2f576",
   "metadata": {},
   "outputs": [
    {
     "name": "stdout",
     "output_type": "stream",
     "text": [
      "yes model in dic\n"
     ]
    }
   ],
   "source": [
    "thisdict = {\n",
    "    \"brand\": \"Ford\",\n",
    "    \"model\": \"Mustang\",\n",
    "    \"year\" : \"2023\"\n",
    "}\n",
    "\n",
    "if \"model\" in thisdict:\n",
    "    print(\"yes model in dic\")\n",
    "else:\n",
    "    print(\"sorry key does not exist\")"
   ]
  },
  {
   "cell_type": "markdown",
   "id": "04405b8c-051e-44f0-bc85-cdc1013d29e9",
   "metadata": {},
   "source": [
    "# CHANGING DICTIONARY ITEMS"
   ]
  },
  {
   "cell_type": "markdown",
   "id": "324768b6-0358-4e9c-a589-de5040e99eb3",
   "metadata": {},
   "source": [
    "### CHANGING VALUES"
   ]
  },
  {
   "cell_type": "code",
   "execution_count": 122,
   "id": "ffa2e1a8-3a6a-4b58-bab6-763feae4d200",
   "metadata": {},
   "outputs": [
    {
     "name": "stdout",
     "output_type": "stream",
     "text": [
      "{'brand': 'toyota', 'model': 'corolla', 'year': 2022}\n"
     ]
    }
   ],
   "source": [
    "#EXAMPLE\n",
    "#Chnage the year to 2022\n",
    "\n",
    "dic = {\n",
    "    \"brand\":\"toyota\",\n",
    "    \"model\": \"corolla\",\n",
    "    \"year\" : 2020\n",
    "}\n",
    "\n",
    "# changing year \n",
    "\n",
    "dic[\"year\"] = 2022\n",
    "\n",
    "print(dic)"
   ]
  },
  {
   "cell_type": "markdown",
   "id": "ea5ecce5-83e9-47ab-9c73-df2ceedba61c",
   "metadata": {},
   "source": [
    "## UPDATE()"
   ]
  },
  {
   "cell_type": "markdown",
   "id": "e1c4f72a-0cb2-4619-acf5-a8d3bf2999ad",
   "metadata": {},
   "source": [
    "update() method will update the dictionary with the items from the given argument.\n",
    "\n",
    "The argument must be a dictionary, or an iterable object with key:value pairs"
   ]
  },
  {
   "cell_type": "code",
   "execution_count": 123,
   "id": "39a47a07-8922-43a3-949a-90b59a0fb532",
   "metadata": {},
   "outputs": [
    {
     "name": "stdout",
     "output_type": "stream",
     "text": [
      "{'brand': 'toyota', 'model': 'corolla', 'year': 2020}\n",
      "{'brand': 'toyota', 'model': 'corolla', 'year': 2025}\n"
     ]
    }
   ],
   "source": [
    "thisdict = {\n",
    "    \"brand\":\"toyota\",\n",
    "    \"model\": \"corolla\",\n",
    "    \"year\" : 2020\n",
    "}\n",
    "print(thisdict)\n",
    "\n",
    "thisdict.update({\"year\":2025})  #the use of update({})\n",
    "print(thisdict)"
   ]
  },
  {
   "cell_type": "markdown",
   "id": "70e7ddfd-571f-44ca-9706-dbfbc13388f9",
   "metadata": {},
   "source": [
    "# REMOVING ITEMS "
   ]
  },
  {
   "cell_type": "markdown",
   "id": "6b9c58c3-10e2-4fba-8335-9a88be71f864",
   "metadata": {},
   "source": [
    "## pop()"
   ]
  },
  {
   "cell_type": "markdown",
   "id": "64ec10c9-d83e-4dbd-9a7c-29a8ca548b42",
   "metadata": {},
   "source": [
    "pop() method removes the item with the specified key name:"
   ]
  },
  {
   "cell_type": "code",
   "execution_count": 124,
   "id": "4a6f018b-a4c2-4de6-81a0-379653ccae1a",
   "metadata": {},
   "outputs": [
    {
     "name": "stdout",
     "output_type": "stream",
     "text": [
      "{'brand': 'Ford', 'year': 2025}\n"
     ]
    }
   ],
   "source": [
    "thisdict = {\n",
    "    \"brand\":\"Ford\",\n",
    "    \"model\":\"Ranger\",\n",
    "    \"year\" : 2025\n",
    "}\n",
    "\n",
    "thisdict.pop(\"model\");\n",
    "print(thisdict)"
   ]
  },
  {
   "cell_type": "markdown",
   "id": "c1c18194-1080-4150-81a7-4d4da76f4e8a",
   "metadata": {},
   "source": [
    "## popitem()"
   ]
  },
  {
   "cell_type": "markdown",
   "id": "a645c9c5-5cb2-4bd0-b504-f4c1ed296581",
   "metadata": {},
   "source": [
    "The popitem() method removes the last inserted item (in versions before 3.7, a random item is removed instead):"
   ]
  },
  {
   "cell_type": "code",
   "execution_count": 125,
   "id": "89aec226-65ca-4a0c-b251-563825db41cd",
   "metadata": {},
   "outputs": [
    {
     "name": "stdout",
     "output_type": "stream",
     "text": [
      "{'brand': 'Ford', 'model': 'ranger', 'year': 2025}\n",
      "{'brand': 'Ford', 'model': 'ranger'}\n"
     ]
    }
   ],
   "source": [
    "thisdict = {\n",
    "    \"brand\": \"Ford\",\n",
    "    \"model\": \"ranger\",\n",
    "    \"year\":2025 \n",
    "}\n",
    "print(thisdict)\n",
    "\n",
    "thisdict.popitem()\n",
    "print(thisdict)"
   ]
  },
  {
   "cell_type": "markdown",
   "id": "2d942edb-b91b-4924-aadd-5065930b6097",
   "metadata": {},
   "source": [
    "## del"
   ]
  },
  {
   "cell_type": "code",
   "execution_count": 126,
   "id": "0f6af7fa-34c1-42da-9960-df1a64346e2f",
   "metadata": {},
   "outputs": [
    {
     "name": "stdout",
     "output_type": "stream",
     "text": [
      "{'brand': 'Ford', 'model': 'Ranger', 'year': 2025}\n",
      "{'brand': 'Ford', 'model': 'Ranger', 'year': 2029}\n",
      "{'brand': 'Ford', 'model': 'Ranger', 'year': 2029, 'color': 'red'}\n",
      "{'brand': 'Ford', 'year': 2029, 'color': 'red'}\n"
     ]
    }
   ],
   "source": [
    "thisdict = {\n",
    "    \"brand\": \"Ford\",\n",
    "    \"model\": \"Ranger\",\n",
    "    \"year\":2025\n",
    "}\n",
    "print(thisdict)\n",
    "thisdict.update({\"year\":2029});\n",
    "print(thisdict)\n",
    "\n",
    "thisdict.update({\"color\":\"red\"})\n",
    "print(thisdict)\n",
    "del thisdict[\"model\"]\n",
    "print(thisdict)\n",
    "\n",
    "\n"
   ]
  },
  {
   "cell_type": "markdown",
   "id": "b7338c33-0f28-4989-a2b0-b0caeb1d7411",
   "metadata": {},
   "source": [
    "## clear()"
   ]
  },
  {
   "cell_type": "markdown",
   "id": "280b7744-1388-459e-a177-07556959a05d",
   "metadata": {},
   "source": [
    "clear() method empties the dictionary:"
   ]
  },
  {
   "cell_type": "code",
   "execution_count": 127,
   "id": "1bf25727-06fd-4e8b-a32b-26c64f927d29",
   "metadata": {},
   "outputs": [
    {
     "name": "stdout",
     "output_type": "stream",
     "text": [
      "{'brand': 'Ford', 'model': 'Focus', 'year': 2021}\n",
      "{}\n"
     ]
    }
   ],
   "source": [
    "thisdict = {\n",
    "    \"brand\":\"Ford\",\n",
    "    \"model\": \"Focus\",\n",
    "    \"year\": 2021\n",
    "}\n",
    "print(thisdict)\n",
    "\n",
    "thisdict.clear();\n",
    "print(thisdict);"
   ]
  },
  {
   "cell_type": "markdown",
   "id": "66e82a8b-eac8-4803-8afe-38deaf816f59",
   "metadata": {},
   "source": [
    "## COPY A DICTIONARY"
   ]
  },
  {
   "cell_type": "markdown",
   "id": "1e091ec2-d2c8-49f1-9389-ecd43ca12895",
   "metadata": {},
   "source": [
    "You cannot copy a dictionary simply by typing dict2 = dict1, because: dict2 will only be a reference to dict1, and changes made in dict1 will automatically also be made in dict2.\n",
    "\n",
    "There are ways to make a copy, one way is to use the built-in Dictionary method copy()"
   ]
  },
  {
   "cell_type": "markdown",
   "id": "a4101727-a94b-42fd-89f6-bfed02860056",
   "metadata": {},
   "source": [
    "### copy()"
   ]
  },
  {
   "cell_type": "code",
   "execution_count": 128,
   "id": "68cb1fbc-928d-4e7a-87e0-6573b7ae1e66",
   "metadata": {},
   "outputs": [
    {
     "name": "stdout",
     "output_type": "stream",
     "text": [
      "{'brand': 'Ford', 'model': 'ranger', 'year': 2021}\n",
      "{'brand': 'Ford', 'model': 'ranger', 'year': 2021}\n",
      "{'brand': 'toyota', 'model': 'hilux', 'year': 2021}\n"
     ]
    }
   ],
   "source": [
    "thisdict = {\n",
    "     \"brand\":\"Ford\",\n",
    "    \"model\":\"ranger\",\n",
    "     \"year\": 2021\n",
    "}\n",
    "print(thisdict)\n",
    "\n",
    "mydict = thisdict.copy()\n",
    "print(mydict)\n",
    "\n",
    "mydict.update({\"brand\":\"toyota\",\"model\":\"hilux\"})\n",
    "print(mydict)\n"
   ]
  },
  {
   "cell_type": "markdown",
   "id": "446c2d2a-d939-46f3-91dc-776bf9ed9377",
   "metadata": {},
   "source": [
    "## LIST COMPREHENSION "
   ]
  },
  {
   "cell_type": "markdown",
   "id": "da8eb2ae-25dc-438c-b246-b3e2cbe2c9a1",
   "metadata": {},
   "source": [
    "offers a shorter syntax when you want to create a new list based on the values of an existing list"
   ]
  },
  {
   "cell_type": "code",
   "execution_count": 129,
   "id": "ef6cee54-50af-4e90-bb03-f9bd900ebf07",
   "metadata": {},
   "outputs": [
    {
     "name": "stdout",
     "output_type": "stream",
     "text": [
      "['apple', 'banana', 'mango']\n"
     ]
    }
   ],
   "source": [
    "fruits = [\"apple\", \"banana\", \"cherry\", \"kiwi\", \"mango\"]\n",
    "newlist = []\n",
    "\n",
    "for x in fruits:\n",
    "    if \"a\" in x:\n",
    "        newlist.append(x)\n",
    "\n",
    "print(newlist)"
   ]
  },
  {
   "cell_type": "markdown",
   "id": "46fff9c7-9ed7-4608-bec4-a6c60b90f223",
   "metadata": {},
   "source": [
    "SYNTAX FOR LIST COMPREHENSION"
   ]
  },
  {
   "cell_type": "markdown",
   "id": "1445414b-bdca-4a45-9908-63d9e11fac3a",
   "metadata": {},
   "source": [
    "newlist = [expression **for** item **in** iterable **if** condition == True]"
   ]
  },
  {
   "cell_type": "code",
   "execution_count": 130,
   "id": "c640dfe3-126b-4bef-a4ef-8956e63a77fc",
   "metadata": {},
   "outputs": [
    {
     "data": {
      "text/plain": [
       "[2, 4, 6, 8, 10]"
      ]
     },
     "execution_count": 130,
     "metadata": {},
     "output_type": "execute_result"
    }
   ],
   "source": [
    "myList =[1,2,3,4,5]\n",
    "[2 * item for item in myList]"
   ]
  },
  {
   "cell_type": "code",
   "execution_count": 131,
   "id": "4187b598-615c-4708-afa0-9b2bc287a82a",
   "metadata": {},
   "outputs": [
    {
     "name": "stdout",
     "output_type": "stream",
     "text": [
      "['apples', 'banana', 'mango']\n"
     ]
    }
   ],
   "source": [
    "fruits = [\"apples\",\"banana\",\"cherry\",\"kiwi\",\"mango\"]\n",
    "\n",
    "newlist = [x for x in fruits if \"a\" in x]\n",
    "\n",
    "print(newlist)\n"
   ]
  },
  {
   "cell_type": "code",
   "execution_count": 132,
   "id": "3f87d287-3538-4020-83c8-29768903d5b6",
   "metadata": {},
   "outputs": [
    {
     "data": {
      "text/plain": [
       "True"
      ]
     },
     "execution_count": 132,
     "metadata": {},
     "output_type": "execute_result"
    }
   ],
   "source": [
    "x= 1\n",
    "y = 2\n",
    "\n",
    "not(x>y)"
   ]
  },
  {
   "cell_type": "markdown",
   "id": "89c3590a-a1de-4573-8b6c-a213e279b395",
   "metadata": {},
   "source": [
    "# IF STATEMENT "
   ]
  },
  {
   "cell_type": "code",
   "execution_count": 133,
   "id": "58945b9c-28c1-46cd-a80e-1ca0227b75a9",
   "metadata": {},
   "outputs": [
    {
     "name": "stdout",
     "output_type": "stream",
     "text": [
      "x is positive\n"
     ]
    }
   ],
   "source": [
    "if x > 0:\n",
    "    print('x is positive')"
   ]
  },
  {
   "cell_type": "code",
   "execution_count": 134,
   "id": "2ce64db0-d9d6-431c-a334-4dd9856d920f",
   "metadata": {},
   "outputs": [
    {
     "name": "stdout",
     "output_type": "stream",
     "text": [
      "small\n"
     ]
    }
   ],
   "source": [
    "x = 3\n",
    "if x < 10 :\n",
    "    print(\"small\")"
   ]
  },
  {
   "cell_type": "code",
   "execution_count": 135,
   "id": "af1c4147-04e5-49d4-97cd-333fad930b81",
   "metadata": {},
   "outputs": [
    {
     "name": "stdout",
     "output_type": "stream",
     "text": [
      "a is indeed less than b\n"
     ]
    }
   ],
   "source": [
    "a = 10\n",
    "b = 20\n",
    "\n",
    "if a < b:\n",
    "    print(\"a is indeed less than b\")"
   ]
  },
  {
   "cell_type": "markdown",
   "id": "50a44e1a-a413-488d-aba0-4f56ecfd1e41",
   "metadata": {},
   "source": [
    "## if Else"
   ]
  },
  {
   "cell_type": "code",
   "execution_count": 136,
   "id": "211babf8-a509-4747-a51a-1b53f016239f",
   "metadata": {},
   "outputs": [
    {
     "name": "stdout",
     "output_type": "stream",
     "text": [
      "x is even\n"
     ]
    }
   ],
   "source": [
    "x = 2\n",
    "\n",
    "if x % 2 == 0:\n",
    "    print(\"x is even\")\n",
    "else:\n",
    "    print(\"x is odd\")"
   ]
  },
  {
   "cell_type": "markdown",
   "id": "07d7639f-e0db-4f02-b145-ea2e6280a419",
   "metadata": {},
   "source": [
    "## Elif (Else if)\n"
   ]
  },
  {
   "cell_type": "markdown",
   "id": "422d47a5-c25e-4c86-97b4-10392c629d96",
   "metadata": {},
   "source": [
    "this is a way of saying that if the previous conditions were not true then try this condition.this is mostly based on the fact that sometimes there are more than two possibilities and we need more than two branches"
   ]
  },
  {
   "cell_type": "code",
   "execution_count": 137,
   "id": "2054bb90-ada4-4111-ad59-70323dfa2655",
   "metadata": {},
   "outputs": [
    {
     "name": "stdout",
     "output_type": "stream",
     "text": [
      "x is less than y\n"
     ]
    }
   ],
   "source": [
    "x = 1\n",
    "y = 5\n",
    "\n",
    "if x < y:\n",
    "    print(\"x is less than y\")\n",
    "elif(x > y):\n",
    "    print(\"x is less than y\")\n",
    "else:\n",
    "    print(\"they are equal\")"
   ]
  },
  {
   "cell_type": "code",
   "execution_count": 138,
   "id": "025b73e7-02fc-4ffc-9ced-64baab94e90b",
   "metadata": {},
   "outputs": [
    {
     "name": "stdout",
     "output_type": "stream",
     "text": [
      "1\n",
      "2\n",
      "fizz\n",
      "4\n",
      "buzz\n",
      "fizz\n",
      "7\n",
      "8\n",
      "fizz\n",
      "buzz\n",
      "11\n",
      "fizz\n",
      "13\n",
      "14\n",
      "fizzbuzz\n",
      "16\n",
      "17\n",
      "fizz\n",
      "19\n",
      "buzz\n",
      "fizz\n",
      "22\n",
      "23\n",
      "fizz\n",
      "buzz\n",
      "26\n",
      "fizz\n",
      "28\n",
      "29\n",
      "fizzbuzz\n",
      "31\n",
      "32\n",
      "fizz\n",
      "34\n",
      "buzz\n",
      "fizz\n",
      "37\n",
      "38\n",
      "fizz\n",
      "buzz\n",
      "41\n",
      "fizz\n",
      "43\n",
      "44\n",
      "fizzbuzz\n",
      "46\n",
      "47\n",
      "fizz\n",
      "49\n",
      "buzz\n",
      "fizz\n",
      "52\n",
      "53\n",
      "fizz\n",
      "buzz\n",
      "56\n",
      "fizz\n",
      "58\n",
      "59\n",
      "fizzbuzz\n",
      "61\n",
      "62\n",
      "fizz\n",
      "64\n",
      "buzz\n",
      "fizz\n",
      "67\n",
      "68\n",
      "fizz\n",
      "buzz\n",
      "71\n",
      "fizz\n",
      "73\n",
      "74\n",
      "fizzbuzz\n",
      "76\n",
      "77\n",
      "fizz\n",
      "79\n",
      "buzz\n",
      "fizz\n",
      "82\n",
      "83\n",
      "fizz\n",
      "buzz\n",
      "86\n",
      "fizz\n",
      "88\n",
      "89\n",
      "fizzbuzz\n",
      "91\n",
      "92\n",
      "fizz\n",
      "94\n",
      "buzz\n",
      "fizz\n",
      "97\n",
      "98\n",
      "fizz\n",
      "buzz\n"
     ]
    }
   ],
   "source": [
    "for n in range(1,101):\n",
    "    if n % 15 == 0:\n",
    "        print(\"fizzbuzz\")\n",
    "    else:\n",
    "        if n % 5 == 0:\n",
    "            print(\"buzz\")\n",
    "        else:\n",
    "             if n % 3 == 0:\n",
    "                print(\"fizz\")\n",
    "             else:\n",
    "               print(n)\n",
    "        "
   ]
  },
  {
   "cell_type": "markdown",
   "id": "578a8dbf-1a8a-46dc-8865-3d2c7de59cd9",
   "metadata": {},
   "source": [
    "# WHILE LOOP\n"
   ]
  },
  {
   "cell_type": "code",
   "execution_count": 139,
   "id": "e2b8a16d-97a0-481a-a137-ce8812bb074c",
   "metadata": {},
   "outputs": [
    {
     "name": "stdout",
     "output_type": "stream",
     "text": [
      "1\n",
      "2\n",
      "3\n",
      "4\n",
      "5\n"
     ]
    }
   ],
   "source": [
    "i = 1\n",
    "while i < 6:\n",
    "  print(i)\n",
    "  i += 1"
   ]
  },
  {
   "cell_type": "code",
   "execution_count": null,
   "id": "f4af7ba5-ab63-4882-9ed2-264239f59e09",
   "metadata": {},
   "outputs": [],
   "source": [
    "#Exit the loop when i is 3:\n",
    "\n",
    "i = 1\n",
    "while i < 6:\n",
    "    print(i)\n",
    "    if i == 2:\n",
    "        break\n",
    "    i+=1"
   ]
  },
  {
   "cell_type": "markdown",
   "id": "980c07dd-e2b6-4315-84a7-4929d5144c67",
   "metadata": {},
   "source": [
    "# FOR LOOP"
   ]
  },
  {
   "cell_type": "code",
   "execution_count": 141,
   "id": "514381d3-393d-4fc7-83e1-8748594500f2",
   "metadata": {},
   "outputs": [
    {
     "name": "stdout",
     "output_type": "stream",
     "text": [
      "apples\n",
      "banana\n",
      "cherry\n",
      "grapes\n"
     ]
    }
   ],
   "source": [
    "fruits = [\"apples\",\"banana\",\"cherry\",\"grapes\"]\n",
    "for x in fruits:\n",
    "    print(x)"
   ]
  },
  {
   "cell_type": "code",
   "execution_count": 142,
   "id": "46b73fa0-a1e1-4e4c-ad55-c26ce685ec2c",
   "metadata": {},
   "outputs": [
    {
     "name": "stdout",
     "output_type": "stream",
     "text": [
      "b\n",
      "a\n",
      "n\n",
      "a\n",
      "n\n",
      "a\n"
     ]
    }
   ],
   "source": [
    "for x in \"banana\":\n",
    "    print(x)"
   ]
  },
  {
   "cell_type": "code",
   "execution_count": 149,
   "id": "c303296e-54a9-425e-b1f4-13a8332fb964",
   "metadata": {},
   "outputs": [
    {
     "name": "stdout",
     "output_type": "stream",
     "text": [
      "merry christmas: joe\n",
      "merry christmas: john\n",
      "merry christmas: james\n",
      "done\n"
     ]
    }
   ],
   "source": [
    "friends = ['joe','john','james']\n",
    "\n",
    "for friend in friends:\n",
    "    print(\"merry christmas:\",friend)\n",
    "print(\"done\")"
   ]
  },
  {
   "cell_type": "code",
   "execution_count": 150,
   "id": "c5056a50-6844-4f2e-8bb6-b05c273c9731",
   "metadata": {},
   "outputs": [
    {
     "name": "stdout",
     "output_type": "stream",
     "text": [
      "1\n",
      "2\n",
      "3\n",
      "4\n"
     ]
    }
   ],
   "source": [
    "myList = [1,2,3,4]\n",
    "\n",
    "for item in myList:\n",
    "    print(item)\n"
   ]
  },
  {
   "cell_type": "code",
   "execution_count": 151,
   "id": "82cc9cf2-6826-4f52-8376-b2cb9a039fc5",
   "metadata": {},
   "outputs": [],
   "source": [
    "animalLookup = {\n",
    "    'a':['aardvark','antelope'],\n",
    "    'b':['bear'],\n",
    "    'c':['cat'],\n",
    "    'd':['dog'],\n",
    "\n",
    "}\n",
    "\n",
    "for letter,animals in  animalLookup.items():\n",
    "    pass"
   ]
  },
  {
   "cell_type": "code",
   "execution_count": 155,
   "id": "46e59b5a-e6b3-400a-b179-b39218ad6f62",
   "metadata": {},
   "outputs": [
    {
     "name": "stdout",
     "output_type": "stream",
     "text": [
      "only one animal bear\n",
      "only one animal cat\n",
      "only one animal dog\n"
     ]
    }
   ],
   "source": [
    "for letter,animals in animalLookup.items():\n",
    "    if len(animals) >1:\n",
    "        continue\n",
    "    print(f'only one animal {animals[0]}')"
   ]
  },
  {
   "cell_type": "code",
   "execution_count": 158,
   "id": "5d4fc593-008f-4034-b8ed-b163f3b40505",
   "metadata": {},
   "outputs": [
    {
     "name": "stdout",
     "output_type": "stream",
     "text": [
      "some\n",
      "some\n",
      "some\n",
      "some\n",
      "some\n",
      "some\n",
      "some\n",
      "some\n",
      "some\n"
     ]
    }
   ],
   "source": [
    "for number in range(1,100):\n",
    "    if number % 10 == 0:\n",
    "        break\n",
    "    else:\n",
    "        print(\"some\")"
   ]
  },
  {
   "cell_type": "code",
   "execution_count": 161,
   "id": "de639609-44b3-4a95-9d91-00c0bc855936",
   "metadata": {},
   "outputs": [
    {
     "data": {
      "text/plain": [
       "[1, 'Monty', 'Python', 'Monty', 5, 'Monty Python', 7, 'Monty', 'Python']"
      ]
     },
     "execution_count": 161,
     "metadata": {},
     "output_type": "execute_result"
    }
   ],
   "source": [
    "['Monty Python' if n % 6 == 0 else'Python'  if n % 3 == 0 else 'Monty'     if n % 2 == 0   else n for n in range(1, 10)]"
   ]
  },
  {
   "cell_type": "code",
   "execution_count": 28,
   "id": "fc4238af-2037-48ef-b841-17f0df4bc9b5",
   "metadata": {},
   "outputs": [
    {
     "name": "stdout",
     "output_type": "stream",
     "text": [
      "11\n"
     ]
    }
   ],
   "source": [
    "\n",
    "x = \"Hello World\"\n",
    "print(len(x))"
   ]
  },
  {
   "cell_type": "code",
   "execution_count": null,
   "id": "24e76c93-de6d-44d4-b0a5-6bb7fcb74dc0",
   "metadata": {},
   "outputs": [],
   "source": [
    "for u in range"
   ]
  }
 ],
 "metadata": {
  "kernelspec": {
   "display_name": "Python 3 (ipykernel)",
   "language": "python",
   "name": "python3"
  },
  "language_info": {
   "codemirror_mode": {
    "name": "ipython",
    "version": 3
   },
   "file_extension": ".py",
   "mimetype": "text/x-python",
   "name": "python",
   "nbconvert_exporter": "python",
   "pygments_lexer": "ipython3",
   "version": "3.12.2"
  }
 },
 "nbformat": 4,
 "nbformat_minor": 5
}
